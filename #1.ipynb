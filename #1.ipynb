{
 "cells": [
  {
   "cell_type": "code",
   "execution_count": 1,
   "metadata": {},
   "outputs": [],
   "source": [
    "# Daily Coding Problem 1 asked by Google\n",
    "# ---\n",
    "# The Problem:\n",
    "# Given a list of numbers and a number k, return whether any two numbers from the list add up to k.\n",
    "# ---\n",
    "# For example, given [10, 15, 3, 7] and k of 17, return true since 10 + 7 is 17."
   ]
  },
  {
   "cell_type": "code",
   "execution_count": 1,
   "metadata": {},
   "outputs": [],
   "source": [
    "# The given number k\n",
    "k = 17\n",
    "# The given list of numbers\n",
    "a = [10, 15, 3, 7]"
   ]
  },
  {
   "cell_type": "code",
   "execution_count": 1,
   "metadata": {},
   "outputs": [
    {
     "name": "stdout",
     "output_type": "stream",
     "text": [
      "True\n"
     ]
    }
   ],
   "source": [
    "def containsSum(number, arr):\n",
    "    # loop through all items in the given array\n",
    "    for i in range(len(arr)):\n",
    "        \n",
    "        # check if the current iteration value * 2 is the number\n",
    "        if arr[i] + arr[i] == number:\n",
    "            return True\n",
    "        \n",
    "        # Loop through all items in the array which index is higher than the index of i\n",
    "        # Why? Because the items with lower indices have already been checked in previous iterations\n",
    "        for n in range(i + 1, len(arr)):\n",
    "            if arr[n] + arr[i] == number:\n",
    "                return True\n",
    "            \n",
    "    return False\n",
    "                \n",
    "    \n",
    "        \n",
    "\n",
    "print(containsSum(k, a))"
   ]
  },
  {
   "cell_type": "code",
   "execution_count": null,
   "metadata": {},
   "outputs": [],
   "source": []
  }
 ],
 "metadata": {
  "kernelspec": {
   "display_name": "Python 3",
   "language": "python",
   "name": "python3"
  },
  "language_info": {
   "codemirror_mode": {
    "name": "ipython",
    "version": 3
   },
   "file_extension": ".py",
   "mimetype": "text/x-python",
   "name": "python",
   "nbconvert_exporter": "python",
   "pygments_lexer": "ipython3",
   "version": "3.7.3"
  }
 },
 "nbformat": 4,
 "nbformat_minor": 2
}
