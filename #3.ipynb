{
  "nbformat": 4,
  "nbformat_minor": 0,
  "metadata": {
    "colab": {
      "name": "Daily Coding Problem: Problem #4.ipynb",
      "version": "0.3.2",
      "provenance": []
    },
    "kernelspec": {
      "name": "python3",
      "display_name": "Python 3"
    }
  },
  "cells": [
    {
      "cell_type": "markdown",
      "metadata": {
        "id": "0ahuozxYh9DU",
        "colab_type": "text"
      },
      "source": [
        "### Daily Coding Problem #3\n",
        "\n",
        "This problem was asked by Stripe.\n",
        "\n",
        "Given an array of integers, find the first missing positive integer in linear time and constant space. In other words, find the lowest positive integer that does not exist in the array. The array can contain duplicates and negative numbers as well.\n",
        "\n",
        "For example, the input `[3, 4, -1, 1]` should give `2`. The input `[1, 2, 0]` should give `3`.\n",
        "\n",
        "You can modify the input array in-place."
      ]
    },
    {
      "cell_type": "code",
      "metadata": {
        "id": "ENBWRn0XeeZx",
        "colab_type": "code",
        "colab": {
          "base_uri": "https://localhost:8080/",
          "height": 34
        },
        "outputId": "6f3c98ee-cd68-453c-db98-adcef270b838"
      },
      "source": [
        "a = [3, 4, -1, 1]\n",
        "\n",
        "def getNext(array):\n",
        "  lowest = 0\n",
        "  for i in array:\n",
        "    if i > 1:\n",
        "      \n",
        "      if lowest == 0:\n",
        "        if i-1 not in array:\n",
        "          lowest = i-1\n",
        "        else:\n",
        "          if i+1 not in array:\n",
        "            lowest = i+1\n",
        "      else:\n",
        "        if lowest > i-1 and i-1 not in array:\n",
        "          lowest = i-1\n",
        "        elif lowest > i+1 and i+1 not in array:\n",
        "          lowest = i+1\n",
        "  return lowest\n",
        "  \n",
        "getNext(a)"
      ],
      "execution_count": 1,
      "outputs": [
        {
          "output_type": "execute_result",
          "data": {
            "text/plain": [
              "2"
            ]
          },
          "metadata": {
            "tags": []
          },
          "execution_count": 1
        }
      ]
    }
  ]
}