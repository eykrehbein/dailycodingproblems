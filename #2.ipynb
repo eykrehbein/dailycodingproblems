{
 "cells": [
  {
   "cell_type": "code",
   "execution_count": null,
   "metadata": {},
   "outputs": [],
   "source": [
    "# Daily Coding Problem 2 asked by Uber\n",
    "# ---\n",
    "# The Problem:\n",
    "# Given an array of integers, return a new array such that each element at \n",
    "# index i of the new array is the product of all the numbers in the original array except the one at i.\n",
    "# ---\n",
    "# For example, if our input was [1, 2, 3, 4, 5],\n",
    "# the expected output would be [120, 60, 40, 30, 24]. \n",
    "# If our input was [3, 2, 1], the expected output would be [2, 3, 6].\n",
    "# ---\n",
    "# Follow-up: what if you can't use division?"
   ]
  },
  {
   "cell_type": "code",
   "execution_count": 1,
   "metadata": {},
   "outputs": [
    {
     "name": "stdout",
     "output_type": "stream",
     "text": [
      "[120, 60, 40, 30, 24]\n"
     ]
    }
   ],
   "source": [
    "# Solution without division.\n",
    "k = [1, 2, 3, 4, 5]\n",
    "\n",
    "def calc(_input):\n",
    "    # init an empty array\n",
    "    na = []\n",
    "    # loop through all items in the input array\n",
    "    for i in range(len(_input)):\n",
    "        # initialize an empty product that will be inserted into the array afterwards\n",
    "        product = 0\n",
    "        # loop through all items in the input array again\n",
    "        for n in range(len(_input)):\n",
    "            # check if the n input is not the one at i. (see Task)\n",
    "            if i != n:\n",
    "                # if the product is null, set it to the current iteration value\n",
    "                if product == 0:\n",
    "                    product = _input[n]\n",
    "                # if the product is not null, multiply the existing product with the iteration value\n",
    "                else:\n",
    "                    product = product * _input[n]\n",
    "        # append the product from this iteration to the result array\n",
    "        na.append(product)\n",
    "    # return the array which contains the products\n",
    "    return na\n",
    "\n",
    "print(calc(k))"
   ]
  },
  {
   "cell_type": "code",
   "execution_count": null,
   "metadata": {},
   "outputs": [],
   "source": []
  }
 ],
 "metadata": {
  "kernelspec": {
   "display_name": "Python 3",
   "language": "python",
   "name": "python3"
  },
  "language_info": {
   "codemirror_mode": {
    "name": "ipython",
    "version": 3
   },
   "file_extension": ".py",
   "mimetype": "text/x-python",
   "name": "python",
   "nbconvert_exporter": "python",
   "pygments_lexer": "ipython3",
   "version": "3.7.3"
  }
 },
 "nbformat": 4,
 "nbformat_minor": 2
}
